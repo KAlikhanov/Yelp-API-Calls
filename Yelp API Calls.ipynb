{
 "cells": [
  {
   "cell_type": "code",
   "execution_count": 1,
   "id": "f522147e",
   "metadata": {},
   "outputs": [],
   "source": [
    "# Importing libraries\n",
    "import numpy as np\n",
    "import pandas as pd\n",
    "import os, json, math, time\n",
    "from yelpapi import YelpAPI\n",
    "from tqdm.notebook import tqdm_notebook"
   ]
  },
  {
   "cell_type": "code",
   "execution_count": 2,
   "id": "9720be67",
   "metadata": {},
   "outputs": [],
   "source": [
    "# Connecting to yelp api\n",
    "with open('/Users/Dido Admin/.secret/yelp_api.json') as f:\n",
    "    login = json.load(f)\n",
    "yelp_api = YelpAPI(login['api-key'], timeout_s = 5.0)"
   ]
  },
  {
   "cell_type": "code",
   "execution_count": 3,
   "id": "e270e8f7",
   "metadata": {},
   "outputs": [],
   "source": [
    "LOCATION = 'Seattle'\n",
    "TERM = 'Coffee'"
   ]
  },
  {
   "cell_type": "code",
   "execution_count": 5,
   "id": "0b549852",
   "metadata": {},
   "outputs": [],
   "source": [
    "JSON_FILE = \"Data/results_in_progress_Seattle_coffee.json\""
   ]
  },
  {
   "cell_type": "code",
   "execution_count": 6,
   "id": "848cb343",
   "metadata": {},
   "outputs": [],
   "source": [
    "# Method for creating JSON file, provided by Coding Dojo\n",
    "def create_json_file(JSON_FILE, delete_if_exists = False):\n",
    "    # Check if file exists\n",
    "    file_exists = os.path.isfile(JSON_FILE)\n",
    "    # If it exists:\n",
    "    if file_exists == True:\n",
    "        # If the user specifies to delete\n",
    "        if delete_if_exists == True:\n",
    "            # Inform the user and delete.\n",
    "            print(f\"[WARNING] {JSON_FILE} already exists. Deleting previous file.\")\n",
    "            os.remove(JSON_FILE)\n",
    "            # Then create a new file.\n",
    "            create_json_file(JSON_FILE, delete_if_exists = False)\n",
    "        # Otherwise inform the user it already exists.\n",
    "        else:\n",
    "            print(f\"[INFORMATION] {JSON_FILE} already exists.\")\n",
    "    # If it doesn't exist:\n",
    "    else:\n",
    "        # Inform the user.\n",
    "        print(f\"[INFORMATION] {JSON_FILE} not found. Saving empty list to new file.\")\n",
    "        # Create the necessary folders\n",
    "        folder = os.path.dirname(JSON_FILE)\n",
    "        if len(folder) > 0:\n",
    "            os.makedirs(folder, exist_ok = True)\n",
    "        # Save an empty list to start the json file.\n",
    "        with open(JSON_FILE, 'w') as f:\n",
    "            json.dump([], f)"
   ]
  },
  {
   "cell_type": "code",
   "execution_count": 18,
   "id": "d2ddafff",
   "metadata": {},
   "outputs": [
    {
     "name": "stdout",
     "output_type": "stream",
     "text": [
      "[WARNING] Data/results_in_progress_Seattle_coffee.json already exists. Deleting previous file.\n",
      "[INFORMATION] Data/results_in_progress_Seattle_coffee.json not found. Saving empty life to new file.\n"
     ]
    }
   ],
   "source": [
    "# Creating the json file.\n",
    "create_json_file(JSON_FILE, delete_if_exists = True)"
   ]
  },
  {
   "cell_type": "code",
   "execution_count": 19,
   "id": "5786b240",
   "metadata": {},
   "outputs": [
    {
     "name": "stdout",
     "output_type": "stream",
     "text": [
      "- 0 previous results found\n"
     ]
    },
    {
     "data": {
      "text/plain": [
       "180"
      ]
     },
     "execution_count": 19,
     "metadata": {},
     "output_type": "execute_result"
    }
   ],
   "source": [
    "# load previous results\n",
    "with open(JSON_FILE, 'r') as f:\n",
    "    previous_results = json.load(f)\n",
    "\n",
    "# offset by number of previous results\n",
    "n_results = len(previous_results)\n",
    "print(f'- {n_results} previous results found')\n",
    "\n",
    "results =  yelp_api.search_query(location = LOCATION, term = TERM, offset = n_results)\n",
    "total_results = results['total']\n",
    "results_per_page = len(results['businesses'])\n",
    "n_pages = math.ceil((results['total'] - n_results) / results_per_page)\n",
    "n_pages"
   ]
  },
  {
   "cell_type": "code",
   "execution_count": 20,
   "id": "1db3233e",
   "metadata": {},
   "outputs": [
    {
     "data": {
      "application/vnd.jupyter.widget-view+json": {
       "model_id": "70dae1a711124cd1b9081bbc37e440b3",
       "version_major": 2,
       "version_minor": 0
      },
      "text/plain": [
       "  0%|          | 0/180 [00:00<?, ?it/s]"
      ]
     },
     "metadata": {},
     "output_type": "display_data"
    },
    {
     "name": "stdout",
     "output_type": "stream",
     "text": [
      "Exceeded 1000 api calls. Stopping loop.\n"
     ]
    }
   ],
   "source": [
    "# Looping the api calls\n",
    "for i in tqdm_notebook(range(1,n_pages+1)):\n",
    "    \n",
    "    # Read in results in progress file and check the length\n",
    "    with open(JSON_FILE, 'r') as f:\n",
    "        previous_results = json.load(f)\n",
    "    # save number of results for to use as offset\n",
    "    n_results = len(previous_results)\n",
    "    \n",
    "    if (n_results + results_per_page) > 1000:\n",
    "        print('Exceeded 1000 api calls. Stopping loop.')\n",
    "        break\n",
    "    \n",
    "    # use n_results as the OFFSET \n",
    "    results = yelp_api.search_query(location=LOCATION,\n",
    "                                    term=TERM, \n",
    "                                    offset=n_results)\n",
    "    \n",
    "    \n",
    "    \n",
    "    # append new results and save to file\n",
    "    previous_results.extend(results['businesses'])\n",
    "    \n",
    "    # display(previous_results)\n",
    "    with open(JSON_FILE,'w') as f:\n",
    "        json.dump(previous_results,f)\n",
    "    \n",
    "    time.sleep(.05)"
   ]
  },
  {
   "cell_type": "code",
   "execution_count": 21,
   "id": "ed26fed4",
   "metadata": {},
   "outputs": [
    {
     "name": "stdout",
     "output_type": "stream",
     "text": [
      "<class 'pandas.core.frame.DataFrame'>\n",
      "RangeIndex: 1000 entries, 0 to 999\n",
      "Data columns (total 16 columns):\n",
      " #   Column         Non-Null Count  Dtype  \n",
      "---  ------         --------------  -----  \n",
      " 0   id             1000 non-null   object \n",
      " 1   alias          1000 non-null   object \n",
      " 2   name           1000 non-null   object \n",
      " 3   image_url      1000 non-null   object \n",
      " 4   is_closed      1000 non-null   bool   \n",
      " 5   url            1000 non-null   object \n",
      " 6   review_count   1000 non-null   int64  \n",
      " 7   categories     1000 non-null   object \n",
      " 8   rating         1000 non-null   float64\n",
      " 9   coordinates    1000 non-null   object \n",
      " 10  transactions   1000 non-null   object \n",
      " 11  price          778 non-null    object \n",
      " 12  location       1000 non-null   object \n",
      " 13  phone          1000 non-null   object \n",
      " 14  display_phone  1000 non-null   object \n",
      " 15  distance       1000 non-null   float64\n",
      "dtypes: bool(1), float64(2), int64(1), object(12)\n",
      "memory usage: 118.3+ KB\n"
     ]
    }
   ],
   "source": [
    "# Creating a dataframe from the file.\n",
    "final_df = pd.read_json(JSON_FILE)\n",
    "final_df.info()"
   ]
  },
  {
   "cell_type": "code",
   "execution_count": 22,
   "id": "c915a69f",
   "metadata": {},
   "outputs": [
    {
     "data": {
      "text/plain": [
       "0"
      ]
     },
     "execution_count": 22,
     "metadata": {},
     "output_type": "execute_result"
    }
   ],
   "source": [
    "# Checking for duplicates.\n",
    "final_df.duplicated(subset = 'id').sum()"
   ]
  },
  {
   "cell_type": "code",
   "execution_count": 23,
   "id": "700d97a1",
   "metadata": {},
   "outputs": [
    {
     "data": {
      "text/html": [
       "<div>\n",
       "<style scoped>\n",
       "    .dataframe tbody tr th:only-of-type {\n",
       "        vertical-align: middle;\n",
       "    }\n",
       "\n",
       "    .dataframe tbody tr th {\n",
       "        vertical-align: top;\n",
       "    }\n",
       "\n",
       "    .dataframe thead th {\n",
       "        text-align: right;\n",
       "    }\n",
       "</style>\n",
       "<table border=\"1\" class=\"dataframe\">\n",
       "  <thead>\n",
       "    <tr style=\"text-align: right;\">\n",
       "      <th></th>\n",
       "      <th>id</th>\n",
       "      <th>alias</th>\n",
       "      <th>name</th>\n",
       "      <th>image_url</th>\n",
       "      <th>is_closed</th>\n",
       "      <th>url</th>\n",
       "      <th>review_count</th>\n",
       "      <th>categories</th>\n",
       "      <th>rating</th>\n",
       "      <th>coordinates</th>\n",
       "      <th>transactions</th>\n",
       "      <th>price</th>\n",
       "      <th>location</th>\n",
       "      <th>phone</th>\n",
       "      <th>display_phone</th>\n",
       "      <th>distance</th>\n",
       "    </tr>\n",
       "  </thead>\n",
       "  <tbody>\n",
       "    <tr>\n",
       "      <th>0</th>\n",
       "      <td>FVzl8rDPiTWEtrNEuCu-Xg</td>\n",
       "      <td>storyville-coffee-company-seattle-9</td>\n",
       "      <td>Storyville Coffee Company</td>\n",
       "      <td>https://s3-media3.fl.yelpcdn.com/bphoto/TecGMk...</td>\n",
       "      <td>False</td>\n",
       "      <td>https://www.yelp.com/biz/storyville-coffee-com...</td>\n",
       "      <td>2105</td>\n",
       "      <td>[{'alias': 'coffee', 'title': 'Coffee &amp; Tea'},...</td>\n",
       "      <td>4.5</td>\n",
       "      <td>{'latitude': 47.60895949363687, 'longitude': -...</td>\n",
       "      <td>[delivery, pickup]</td>\n",
       "      <td>$$</td>\n",
       "      <td>{'address1': '94 Pike St', 'address2': 'Ste 34...</td>\n",
       "      <td>+12067805777</td>\n",
       "      <td>(206) 780-5777</td>\n",
       "      <td>1867.019450</td>\n",
       "    </tr>\n",
       "    <tr>\n",
       "      <th>1</th>\n",
       "      <td>K-X3rRAVbeMZ0VIDWuPX_Q</td>\n",
       "      <td>anchorhead-coffee-seattle</td>\n",
       "      <td>Anchorhead Coffee</td>\n",
       "      <td>https://s3-media2.fl.yelpcdn.com/bphoto/OITyX_...</td>\n",
       "      <td>False</td>\n",
       "      <td>https://www.yelp.com/biz/anchorhead-coffee-sea...</td>\n",
       "      <td>694</td>\n",
       "      <td>[{'alias': 'coffee', 'title': 'Coffee &amp; Tea'},...</td>\n",
       "      <td>4.5</td>\n",
       "      <td>{'latitude': 47.6133808022766, 'longitude': -1...</td>\n",
       "      <td>[delivery]</td>\n",
       "      <td>$$</td>\n",
       "      <td>{'address1': '1600 7th Ave', 'address2': 'Ste ...</td>\n",
       "      <td>+12062222222</td>\n",
       "      <td>(206) 222-2222</td>\n",
       "      <td>1339.997321</td>\n",
       "    </tr>\n",
       "    <tr>\n",
       "      <th>2</th>\n",
       "      <td>3jrQdJz7YPGOi6KbDLmnTg</td>\n",
       "      <td>aroom-coffee-seattle</td>\n",
       "      <td>Aroom Coffee</td>\n",
       "      <td>https://s3-media3.fl.yelpcdn.com/bphoto/eUozLm...</td>\n",
       "      <td>False</td>\n",
       "      <td>https://www.yelp.com/biz/aroom-coffee-seattle?...</td>\n",
       "      <td>83</td>\n",
       "      <td>[{'alias': 'coffee', 'title': 'Coffee &amp; Tea'},...</td>\n",
       "      <td>5.0</td>\n",
       "      <td>{'latitude': 47.6532043, 'longitude': -122.343...</td>\n",
       "      <td>[]</td>\n",
       "      <td>$</td>\n",
       "      <td>{'address1': '3801 Stone Way N', 'address2': '...</td>\n",
       "      <td></td>\n",
       "      <td></td>\n",
       "      <td>3144.803799</td>\n",
       "    </tr>\n",
       "    <tr>\n",
       "      <th>3</th>\n",
       "      <td>qKkHnsG-f4-BhdkR6yRrgw</td>\n",
       "      <td>moore-coffee-shop-seattle</td>\n",
       "      <td>Moore Coffee Shop</td>\n",
       "      <td>https://s3-media4.fl.yelpcdn.com/bphoto/FIBeRa...</td>\n",
       "      <td>False</td>\n",
       "      <td>https://www.yelp.com/biz/moore-coffee-shop-sea...</td>\n",
       "      <td>1207</td>\n",
       "      <td>[{'alias': 'coffee', 'title': 'Coffee &amp; Tea'},...</td>\n",
       "      <td>4.5</td>\n",
       "      <td>{'latitude': 47.61163752302497, 'longitude': -...</td>\n",
       "      <td>[delivery]</td>\n",
       "      <td>$</td>\n",
       "      <td>{'address1': '1930 2nd Ave', 'address2': None,...</td>\n",
       "      <td>+12068837044</td>\n",
       "      <td>(206) 883-7044</td>\n",
       "      <td>1591.154613</td>\n",
       "    </tr>\n",
       "    <tr>\n",
       "      <th>4</th>\n",
       "      <td>jG9m-nR8doMJHkecls9pDw</td>\n",
       "      <td>203-farenheit-coffee-seattle</td>\n",
       "      <td>203° Farenheit Coffee</td>\n",
       "      <td>https://s3-media3.fl.yelpcdn.com/bphoto/8BwHNN...</td>\n",
       "      <td>False</td>\n",
       "      <td>https://www.yelp.com/biz/203-farenheit-coffee-...</td>\n",
       "      <td>11</td>\n",
       "      <td>[{'alias': 'coffee', 'title': 'Coffee &amp; Tea'},...</td>\n",
       "      <td>4.5</td>\n",
       "      <td>{'latitude': 47.6253, 'longitude': -122.33683}</td>\n",
       "      <td>[]</td>\n",
       "      <td>$$</td>\n",
       "      <td>{'address1': '610 Terry Ave N', 'address2': 'S...</td>\n",
       "      <td>+14252859382</td>\n",
       "      <td>(425) 285-9382</td>\n",
       "      <td>21.234880</td>\n",
       "    </tr>\n",
       "  </tbody>\n",
       "</table>\n",
       "</div>"
      ],
      "text/plain": [
       "                       id                                alias  \\\n",
       "0  FVzl8rDPiTWEtrNEuCu-Xg  storyville-coffee-company-seattle-9   \n",
       "1  K-X3rRAVbeMZ0VIDWuPX_Q            anchorhead-coffee-seattle   \n",
       "2  3jrQdJz7YPGOi6KbDLmnTg                 aroom-coffee-seattle   \n",
       "3  qKkHnsG-f4-BhdkR6yRrgw            moore-coffee-shop-seattle   \n",
       "4  jG9m-nR8doMJHkecls9pDw         203-farenheit-coffee-seattle   \n",
       "\n",
       "                        name  \\\n",
       "0  Storyville Coffee Company   \n",
       "1          Anchorhead Coffee   \n",
       "2               Aroom Coffee   \n",
       "3          Moore Coffee Shop   \n",
       "4      203° Farenheit Coffee   \n",
       "\n",
       "                                           image_url  is_closed  \\\n",
       "0  https://s3-media3.fl.yelpcdn.com/bphoto/TecGMk...      False   \n",
       "1  https://s3-media2.fl.yelpcdn.com/bphoto/OITyX_...      False   \n",
       "2  https://s3-media3.fl.yelpcdn.com/bphoto/eUozLm...      False   \n",
       "3  https://s3-media4.fl.yelpcdn.com/bphoto/FIBeRa...      False   \n",
       "4  https://s3-media3.fl.yelpcdn.com/bphoto/8BwHNN...      False   \n",
       "\n",
       "                                                 url  review_count  \\\n",
       "0  https://www.yelp.com/biz/storyville-coffee-com...          2105   \n",
       "1  https://www.yelp.com/biz/anchorhead-coffee-sea...           694   \n",
       "2  https://www.yelp.com/biz/aroom-coffee-seattle?...            83   \n",
       "3  https://www.yelp.com/biz/moore-coffee-shop-sea...          1207   \n",
       "4  https://www.yelp.com/biz/203-farenheit-coffee-...            11   \n",
       "\n",
       "                                          categories  rating  \\\n",
       "0  [{'alias': 'coffee', 'title': 'Coffee & Tea'},...     4.5   \n",
       "1  [{'alias': 'coffee', 'title': 'Coffee & Tea'},...     4.5   \n",
       "2  [{'alias': 'coffee', 'title': 'Coffee & Tea'},...     5.0   \n",
       "3  [{'alias': 'coffee', 'title': 'Coffee & Tea'},...     4.5   \n",
       "4  [{'alias': 'coffee', 'title': 'Coffee & Tea'},...     4.5   \n",
       "\n",
       "                                         coordinates        transactions  \\\n",
       "0  {'latitude': 47.60895949363687, 'longitude': -...  [delivery, pickup]   \n",
       "1  {'latitude': 47.6133808022766, 'longitude': -1...          [delivery]   \n",
       "2  {'latitude': 47.6532043, 'longitude': -122.343...                  []   \n",
       "3  {'latitude': 47.61163752302497, 'longitude': -...          [delivery]   \n",
       "4     {'latitude': 47.6253, 'longitude': -122.33683}                  []   \n",
       "\n",
       "  price                                           location         phone  \\\n",
       "0    $$  {'address1': '94 Pike St', 'address2': 'Ste 34...  +12067805777   \n",
       "1    $$  {'address1': '1600 7th Ave', 'address2': 'Ste ...  +12062222222   \n",
       "2     $  {'address1': '3801 Stone Way N', 'address2': '...                 \n",
       "3     $  {'address1': '1930 2nd Ave', 'address2': None,...  +12068837044   \n",
       "4    $$  {'address1': '610 Terry Ave N', 'address2': 'S...  +14252859382   \n",
       "\n",
       "    display_phone     distance  \n",
       "0  (206) 780-5777  1867.019450  \n",
       "1  (206) 222-2222  1339.997321  \n",
       "2                  3144.803799  \n",
       "3  (206) 883-7044  1591.154613  \n",
       "4  (425) 285-9382    21.234880  "
      ]
     },
     "execution_count": 23,
     "metadata": {},
     "output_type": "execute_result"
    }
   ],
   "source": [
    "# Dipsplaying the dataframe\n",
    "final_df.head()"
   ]
  },
  {
   "cell_type": "code",
   "execution_count": 24,
   "id": "2256c8be",
   "metadata": {},
   "outputs": [],
   "source": [
    "# Saving the dataframe.\n",
    "final_df.to_csv('Data/final_results_Seattle_coffee.csv.gz', compression = 'gzip', index = False)"
   ]
  }
 ],
 "metadata": {
  "kernelspec": {
   "display_name": "Python (dojo-env)",
   "language": "python",
   "name": "dojo-env"
  },
  "language_info": {
   "codemirror_mode": {
    "name": "ipython",
    "version": 3
   },
   "file_extension": ".py",
   "mimetype": "text/x-python",
   "name": "python",
   "nbconvert_exporter": "python",
   "pygments_lexer": "ipython3",
   "version": "3.8.13"
  },
  "toc": {
   "base_numbering": 1,
   "nav_menu": {},
   "number_sections": false,
   "sideBar": true,
   "skip_h1_title": false,
   "title_cell": "Table of Contents",
   "title_sidebar": "Contents",
   "toc_cell": false,
   "toc_position": {},
   "toc_section_display": true,
   "toc_window_display": false
  }
 },
 "nbformat": 4,
 "nbformat_minor": 5
}
